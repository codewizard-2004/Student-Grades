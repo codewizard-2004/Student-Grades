{
  "nbformat": 4,
  "nbformat_minor": 0,
  "metadata": {
    "colab": {
      "provenance": []
    },
    "kernelspec": {
      "name": "python3",
      "display_name": "Python 3"
    },
    "language_info": {
      "name": "python"
    }
  },
  "cells": [
    {
      "cell_type": "markdown",
      "source": [
        "#Task\n",
        "\n",
        "---\n",
        "\n",
        "Build a model to predict students' final grades based on hours studied\n",
        "#Author\n",
        "---\n",
        "Amal Varghese\n",
        "\n",
        "\n",
        "*   [Linkedin](https://www.linkedin.com/in/amal-varghese-670225291/)\n",
        "*   [Github](https://github.com/codewizard-2004)\n",
        "\n"
      ],
      "metadata": {
        "id": "KAKNOJA_6sjc"
      }
    },
    {
      "cell_type": "markdown",
      "source": [
        "#Introduction\n",
        "By doing this project we aim to create and train a **PyTorch** Model to perform **Linear Regression** to predict the final grades of students based on the number of hours studied using a synthetically generated data"
      ],
      "metadata": {
        "id": "Ow6FkrI87IuP"
      }
    },
    {
      "cell_type": "markdown",
      "source": [
        "#Data Collection\n",
        "For this project we are planning to use a synthetically generated data which I have uploaded to my github repository [here](https://github.com/codewizard-2004/Student-Grades)"
      ],
      "metadata": {
        "id": "NsvPOO0W8gPf"
      }
    },
    {
      "cell_type": "code",
      "source": [
        "#importing necessary libraries for handling the data\n",
        "\n",
        "import pandas as pd\n",
        "import numpy as np\n",
        "import matplotlib.pyplot as plt"
      ],
      "metadata": {
        "id": "YGpoaNQ-AWC1"
      },
      "execution_count": 1,
      "outputs": []
    },
    {
      "cell_type": "code",
      "source": [
        "#loading the data\n",
        "url = \"https://raw.githubusercontent.com/codewizard-2004/Student-Grades/main/Data/student_scores.csv\"\n",
        "data = pd.read_csv(url)\n",
        "print(data.head())"
      ],
      "metadata": {
        "colab": {
          "base_uri": "https://localhost:8080/"
        },
        "id": "CFc5yopeBot6",
        "outputId": "af8bb05a-1113-411f-9794-a616860e956b"
      },
      "execution_count": 2,
      "outputs": [
        {
          "output_type": "stream",
          "name": "stdout",
          "text": [
            "   Hours  Scores\n",
            "0    2.5      21\n",
            "1    5.1      47\n",
            "2    3.2      27\n",
            "3    8.5      75\n",
            "4    3.5      30\n"
          ]
        }
      ]
    },
    {
      "cell_type": "markdown",
      "source": [
        "So we have loaded our data now we need to perform **Exploratory Data Analysis**\n",
        "\n",
        "\n",
        "1. Check for any Missing values\n",
        "2. Check for Duplicate values\n",
        "3. Get a statistical summary of data\n",
        "4. Plot a scatter of Hours studied vs Score\n",
        "\n"
      ],
      "metadata": {
        "id": "7mACIPw3CQjN"
      }
    },
    {
      "cell_type": "code",
      "source": [
        "#Checking for missing values\n",
        "print(data.isnull().sum())"
      ],
      "metadata": {
        "colab": {
          "base_uri": "https://localhost:8080/"
        },
        "id": "jt3cDn9UDDe1",
        "outputId": "cdc6d09b-c3c4-4a08-c778-3493562b15ee"
      },
      "execution_count": 3,
      "outputs": [
        {
          "output_type": "stream",
          "name": "stdout",
          "text": [
            "Hours     0\n",
            "Scores    0\n",
            "dtype: int64\n"
          ]
        }
      ]
    },
    {
      "cell_type": "code",
      "source": [
        "#Checking for duplciate values\n",
        "print(data.duplicated().sum())"
      ],
      "metadata": {
        "colab": {
          "base_uri": "https://localhost:8080/"
        },
        "id": "2xf3Z7MmDjHC",
        "outputId": "fc803001-b3a7-4a07-fd65-b3e139a5daf4"
      },
      "execution_count": 4,
      "outputs": [
        {
          "output_type": "stream",
          "name": "stdout",
          "text": [
            "0\n"
          ]
        }
      ]
    },
    {
      "cell_type": "code",
      "source": [
        "#get a stristical summary of the data\n",
        "print(data.describe())"
      ],
      "metadata": {
        "colab": {
          "base_uri": "https://localhost:8080/"
        },
        "id": "mQKXCr5oDqTO",
        "outputId": "87f73dfd-eedc-4073-a36e-11c537f78295"
      },
      "execution_count": 5,
      "outputs": [
        {
          "output_type": "stream",
          "name": "stdout",
          "text": [
            "           Hours     Scores\n",
            "count  25.000000  25.000000\n",
            "mean    5.012000  51.480000\n",
            "std     2.525094  25.286887\n",
            "min     1.100000  17.000000\n",
            "25%     2.700000  30.000000\n",
            "50%     4.800000  47.000000\n",
            "75%     7.400000  75.000000\n",
            "max     9.200000  95.000000\n"
          ]
        }
      ]
    },
    {
      "cell_type": "code",
      "source": [
        "#Plotting a scatter for Hours vs Score\n",
        "plt.scatter(data['Hours'], data['Scores'])\n",
        "plt.xlabel('Hours')\n",
        "plt.ylabel('Score')\n",
        "plt.title('Hours vs Score')\n",
        "plt.show()"
      ],
      "metadata": {
        "colab": {
          "base_uri": "https://localhost:8080/",
          "height": 472
        },
        "id": "LheNYcNtDulU",
        "outputId": "4b831573-6ee7-4b33-bcb1-4b55b10e13f3"
      },
      "execution_count": 6,
      "outputs": [
        {
          "output_type": "display_data",
          "data": {
            "text/plain": [
              "<Figure size 640x480 with 1 Axes>"
            ],
            "image/png": "[encoded data removed]"
          },
          "metadata": {}
        }
      ]
    },
    {
      "cell_type": "markdown",
      "source": [
        "from the abouve visualisation it is clear that the feature(Hours Studied) and the label(Score) has a linear relation between them"
      ],
      "metadata": {
        "id": "wFdo-Yh-Efll"
      }
    },
    {
      "cell_type": "markdown",
      "source": [
        "#Defining the feature and label\n",
        "- **Feature**: The input variable or predictor, which is the number of hours studied.\n",
        "- **Label**: The output variable or target, which is the student's final score.\n",
        "\n",
        "So, in this case:\n",
        "\n",
        "- **Feature**: Hours studied\n",
        "- **Label**: Final score"
      ],
      "metadata": {
        "id": "JKvzkXdHFo5z"
      }
    },
    {
      "cell_type": "code",
      "source": [
        "x = data[['Hours']] #Feature is a 2d matrix cuz it is needed for train_test_split\n",
        "y = data['Scores'] #Labels\n",
        "\n",
        "print(f\"Feature Shape: {x.shape}\")\n",
        "print(f\"Label SHape: {y.shape}\")"
      ],
      "metadata": {
        "colab": {
          "base_uri": "https://localhost:8080/"
        },
        "id": "3ao6Z-ZrI2Mq",
        "outputId": "dabc0c07-3399-4fad-8098-53cc7c9022cd"
      },
      "execution_count": 7,
      "outputs": [
        {
          "output_type": "stream",
          "name": "stdout",
          "text": [
            "Feature Shape: (25, 1)\n",
            "Label SHape: (25,)\n"
          ]
        }
      ]
    },
    {
      "cell_type": "code",
      "source": [
        "x.head()"
      ],
      "metadata": {
        "colab": {
          "base_uri": "https://localhost:8080/",
          "height": 206
        },
        "id": "38YHvCPnJG48",
        "outputId": "db142daa-1c6d-482c-f782-ac4c6e9da4f3"
      },
      "execution_count": 8,
      "outputs": [
        {
          "output_type": "execute_result",
          "data": {
            "text/plain": [
              "   Hours\n",
              "0    2.5\n",
              "1    5.1\n",
              "2    3.2\n",
              "3    8.5\n",
              "4    3.5"
            ],
            "text/html": [
              "\n",
              "  <div id=\"df-eec6a26b-f5c9-4bc6-8867-1e52f6cf64f2\" class=\"colab-df-container\">\n",
              "    <div>\n",
              "<style scoped>\n",
              "    .dataframe tbody tr th:only-of-type {\n",
              "        vertical-align: middle;\n",
              "    }\n",
              "\n",
              "    .dataframe tbody tr th {\n",
              "        vertical-align: top;\n",
              "    }\n",
              "\n",
              "    .dataframe thead th {\n",
              "        text-align: right;\n",
              "    }\n",
              "</style>\n",
              "<table border=\"1\" class=\"dataframe\">\n",
              "  <thead>\n",
              "    <tr style=\"text-align: right;\">\n",
              "      <th></th>\n",
              "      <th>Hours</th>\n",
              "    </tr>\n",
              "  </thead>\n",
              "  <tbody>\n",
              "    <tr>\n",
              "      <th>0</th>\n",
              "      <td>2.5</td>\n",
              "    </tr>\n",
              "    <tr>\n",
              "      <th>1</th>\n",
              "      <td>5.1</td>\n",
              "    </tr>\n",
              "    <tr>\n",
              "      <th>2</th>\n",
              "      <td>3.2</td>\n",
              "    </tr>\n",
              "    <tr>\n",
              "      <th>3</th>\n",
              "      <td>8.5</td>\n",
              "    </tr>\n",
              "    <tr>\n",
              "      <th>4</th>\n",
              "      <td>3.5</td>\n",
              "    </tr>\n",
              "  </tbody>\n",
              "</table>\n",
              "</div>\n",
              "    <div class=\"colab-df-buttons\">\n",
              "\n",
              "  <div class=\"colab-df-container\">\n",
              "    <button class=\"colab-df-convert\" onclick=\"convertToInteractive('df-eec6a26b-f5c9-4bc6-8867-1e52f6cf64f2')\"\n",
              "            title=\"Convert this dataframe to an interactive table.\"\n",
              "            style=\"display:none;\">\n",
              "\n",
              "  <svg xmlns=\"http://www.w3.org/2000/svg\" height=\"24px\" viewBox=\"0 -960 960 960\">\n",
              "    <path d=\"M120-120v-720h720v720H120Zm60-500h600v-160H180v160Zm220 220h160v-160H400v160Zm0 220h160v-160H400v160ZM180-400h160v-160H180v160Zm440 0h160v-160H620v160ZM180-180h160v-160H180v160Zm440 0h160v-160H620v160Z\"/>\n",
              "  </svg>\n",
              "    </button>\n",
              "\n",
              "  <style>\n",
              "    .colab-df-container {\n",
              "      display:flex;\n",
              "      gap: 12px;\n",
              "    }\n",
              "\n",
              "    .colab-df-convert {\n",
              "      background-color: #E8F0FE;\n",
              "      border: none;\n",
              "      border-radius: 50%;\n",
              "      cursor: pointer;\n",
              "      display: none;\n",
              "      fill: #1967D2;\n",
              "      height: 32px;\n",
              "      padding: 0 0 0 0;\n",
              "      width: 32px;\n",
              "    }\n",
              "\n",
              "    .colab-df-convert:hover {\n",
              "      background-color: #E2EBFA;\n",
              "      box-shadow: 0px 1px 2px rgba(60, 64, 67, 0.3), 0px 1px 3px 1px rgba(60, 64, 67, 0.15);\n",
              "      fill: #174EA6;\n",
              "    }\n",
              "\n",
              "    .colab-df-buttons div {\n",
              "      margin-bottom: 4px;\n",
              "    }\n",
              "\n",
              "    [theme=dark] .colab-df-convert {\n",
              "      background-color: #3B4455;\n",
              "      fill: #D2E3FC;\n",
              "    }\n",
              "\n",
              "    [theme=dark] .colab-df-convert:hover {\n",
              "      background-color: #434B5C;\n",
              "      box-shadow: 0px 1px 3px 1px rgba(0, 0, 0, 0.15);\n",
              "      filter: drop-shadow(0px 1px 2px rgba(0, 0, 0, 0.3));\n",
              "      fill: #FFFFFF;\n",
              "    }\n",
              "  </style>\n",
              "\n",
              "    <script>\n",
              "      const buttonEl =\n",
              "        document.querySelector('#df-eec6a26b-f5c9-4bc6-8867-1e52f6cf64f2 button.colab-df-convert');\n",
              "      buttonEl.style.display =\n",
              "        google.colab.kernel.accessAllowed ? 'block' : 'none';\n",
              "\n",
              "      async function convertToInteractive(key) {\n",
              "        const element = document.querySelector('#df-eec6a26b-f5c9-4bc6-8867-1e52f6cf64f2');\n",
              "        const dataTable =\n",
              "          await google.colab.kernel.invokeFunction('convertToInteractive',\n",
              "                                                    [key], {});\n",
              "        if (!dataTable) return;\n",
              "\n",
              "        const docLinkHtml = 'Like what you see? Visit the ' +\n",
              "          '<a target=\"_blank\" href=https://colab.research.google.com/notebooks/data_table.ipynb>data table notebook</a>'\n",
              "          + ' to learn more about interactive tables.';\n",
              "        element.innerHTML = '';\n",
              "        dataTable['output_type'] = 'display_data';\n",
              "        await google.colab.output.renderOutput(dataTable, element);\n",
              "        const docLink = document.createElement('div');\n",
              "        docLink.innerHTML = docLinkHtml;\n",
              "        element.appendChild(docLink);\n",
              "      }\n",
              "    </script>\n",
              "  </div>\n",
              "\n",
              "\n",
              "<div id=\"df-f4e82b4f-48c2-490a-82ae-f796ca009f32\">\n",
              "  <button class=\"colab-df-quickchart\" onclick=\"quickchart('df-f4e82b4f-48c2-490a-82ae-f796ca009f32')\"\n",
              "            title=\"Suggest charts\"\n",
              "            style=\"display:none;\">\n",
              "\n",
              "<svg xmlns=\"http://www.w3.org/2000/svg\" height=\"24px\"viewBox=\"0 0 24 24\"\n",
              "     width=\"24px\">\n",
              "    <g>\n",
              "        <path d=\"M19 3H5c-1.1 0-2 .9-2 2v14c0 1.1.9 2 2 2h14c1.1 0 2-.9 2-2V5c0-1.1-.9-2-2-2zM9 17H7v-7h2v7zm4 0h-2V7h2v10zm4 0h-2v-4h2v4z\"/>\n",
              "    </g>\n",
              "</svg>\n",
              "  </button>\n",
              "\n",
              "<style>\n",
              "  .colab-df-quickchart {\n",
              "      --bg-color: #E8F0FE;\n",
              "      --fill-color: #1967D2;\n",
              "      --hover-bg-color: #E2EBFA;\n",
              "      --hover-fill-color: #174EA6;\n",
              "      --disabled-fill-color: #AAA;\n",
              "      --disabled-bg-color: #DDD;\n",
              "  }\n",
              "\n",
              "  [theme=dark] .colab-df-quickchart {\n",
              "      --bg-color: #3B4455;\n",
              "      --fill-color: #D2E3FC;\n",
              "      --hover-bg-color: #434B5C;\n",
              "      --hover-fill-color: #FFFFFF;\n",
              "      --disabled-bg-color: #3B4455;\n",
              "      --disabled-fill-color: #666;\n",
              "  }\n",
              "\n",
              "  .colab-df-quickchart {\n",
              "    background-color: var(--bg-color);\n",
              "    border: none;\n",
              "    border-radius: 50%;\n",
              "    cursor: pointer;\n",
              "    display: none;\n",
              "    fill: var(--fill-color);\n",
              "    height: 32px;\n",
              "    padding: 0;\n",
              "    width: 32px;\n",
              "  }\n",
              "\n",
              "  .colab-df-quickchart:hover {\n",
              "    background-color: var(--hover-bg-color);\n",
              "    box-shadow: 0 1px 2px rgba(60, 64, 67, 0.3), 0 1px 3px 1px rgba(60, 64, 67, 0.15);\n",
              "    fill: var(--button-hover-fill-color);\n",
              "  }\n",
              "\n",
              "  .colab-df-quickchart-complete:disabled,\n",
              "  .colab-df-quickchart-complete:disabled:hover {\n",
              "    background-color: var(--disabled-bg-color);\n",
              "    fill: var(--disabled-fill-color);\n",
              "    box-shadow: none;\n",
              "  }\n",
              "\n",
              "  .colab-df-spinner {\n",
              "    border: 2px solid var(--fill-color);\n",
              "    border-color: transparent;\n",
              "    border-bottom-color: var(--fill-color);\n",
              "    animation:\n",
              "      spin 1s steps(1) infinite;\n",
              "  }\n",
              "\n",
              "  @keyframes spin {\n",
              "    0% {\n",
              "      border-color: transparent;\n",
              "      border-bottom-color: var(--fill-color);\n",
              "      border-left-color: var(--fill-color);\n",
              "    }\n",
              "    20% {\n",
              "      border-color: transparent;\n",
              "      border-left-color: var(--fill-color);\n",
              "      border-top-color: var(--fill-color);\n",
              "    }\n",
              "    30% {\n",
              "      border-color: transparent;\n",
              "      border-left-color: var(--fill-color);\n",
              "      border-top-color: var(--fill-color);\n",
              "      border-right-color: var(--fill-color);\n",
              "    }\n",
              "    40% {\n",
              "      border-color: transparent;\n",
              "      border-right-color: var(--fill-color);\n",
              "      border-top-color: var(--fill-color);\n",
              "    }\n",
              "    60% {\n",
              "      border-color: transparent;\n",
              "      border-right-color: var(--fill-color);\n",
              "    }\n",
              "    80% {\n",
              "      border-color: transparent;\n",
              "      border-right-color: var(--fill-color);\n",
              "      border-bottom-color: var(--fill-color);\n",
              "    }\n",
              "    90% {\n",
              "      border-color: transparent;\n",
              "      border-bottom-color: var(--fill-color);\n",
              "    }\n",
              "  }\n",
              "</style>\n",
              "\n",
              "  <script>\n",
              "    async function quickchart(key) {\n",
              "      const quickchartButtonEl =\n",
              "        document.querySelector('#' + key + ' button');\n",
              "      quickchartButtonEl.disabled = true;  // To prevent multiple clicks.\n",
              "      quickchartButtonEl.classList.add('colab-df-spinner');\n",
              "      try {\n",
              "        const charts = await google.colab.kernel.invokeFunction(\n",
              "            'suggestCharts', [key], {});\n",
              "      } catch (error) {\n",
              "        console.error('Error during call to suggestCharts:', error);\n",
              "      }\n",
              "      quickchartButtonEl.classList.remove('colab-df-spinner');\n",
              "      quickchartButtonEl.classList.add('colab-df-quickchart-complete');\n",
              "    }\n",
              "    (() => {\n",
              "      let quickchartButtonEl =\n",
              "        document.querySelector('#df-f4e82b4f-48c2-490a-82ae-f796ca009f32 button');\n",
              "      quickchartButtonEl.style.display =\n",
              "        google.colab.kernel.accessAllowed ? 'block' : 'none';\n",
              "    })();\n",
              "  </script>\n",
              "</div>\n",
              "\n",
              "    </div>\n",
              "  </div>\n"
            ],
            "application/vnd.google.colaboratory.intrinsic+json": {
              "type": "dataframe",
              "variable_name": "x",
              "summary": "{\n  \"name\": \"x\",\n  \"rows\": 25,\n  \"fields\": [\n    {\n      \"column\": \"Hours\",\n      \"properties\": {\n        \"dtype\": \"number\",\n        \"std\": 2.5250940576540906,\n        \"min\": 1.1,\n        \"max\": 9.2,\n        \"num_unique_values\": 23,\n        \"samples\": [\n          8.9,\n          2.7,\n          2.5\n        ],\n        \"semantic_type\": \"\",\n        \"description\": \"\"\n      }\n    }\n  ]\n}"
            }
          },
          "metadata": {},
          "execution_count": 8
        }
      ]
    },
    {
      "cell_type": "code",
      "source": [
        "y.head()"
      ],
      "metadata": {
        "colab": {
          "base_uri": "https://localhost:8080/",
          "height": 241
        },
        "id": "WNeC27nbJpLR",
        "outputId": "d60eb81c-3e53-4772-f06f-cbdc42cf0f10"
      },
      "execution_count": 9,
      "outputs": [
        {
          "output_type": "execute_result",
          "data": {
            "text/plain": [
              "0    21\n",
              "1    47\n",
              "2    27\n",
              "3    75\n",
              "4    30\n",
              "Name: Scores, dtype: int64"
            ],
            "text/html": [
              "<div>\n",
              "<style scoped>\n",
              "    .dataframe tbody tr th:only-of-type {\n",
              "        vertical-align: middle;\n",
              "    }\n",
              "\n",
              "    .dataframe tbody tr th {\n",
              "        vertical-align: top;\n",
              "    }\n",
              "\n",
              "    .dataframe thead th {\n",
              "        text-align: right;\n",
              "    }\n",
              "</style>\n",
              "<table border=\"1\" class=\"dataframe\">\n",
              "  <thead>\n",
              "    <tr style=\"text-align: right;\">\n",
              "      <th></th>\n",
              "      <th>Scores</th>\n",
              "    </tr>\n",
              "  </thead>\n",
              "  <tbody>\n",
              "    <tr>\n",
              "      <th>0</th>\n",
              "      <td>21</td>\n",
              "    </tr>\n",
              "    <tr>\n",
              "      <th>1</th>\n",
              "      <td>47</td>\n",
              "    </tr>\n",
              "    <tr>\n",
              "      <th>2</th>\n",
              "      <td>27</td>\n",
              "    </tr>\n",
              "    <tr>\n",
              "      <th>3</th>\n",
              "      <td>75</td>\n",
              "    </tr>\n",
              "    <tr>\n",
              "      <th>4</th>\n",
              "      <td>30</td>\n",
              "    </tr>\n",
              "  </tbody>\n",
              "</table>\n",
              "</div><br><label><b>dtype:</b> int64</label>"
            ]
          },
          "metadata": {},
          "execution_count": 9
        }
      ]
    },
    {
      "cell_type": "markdown",
      "source": [
        "#Preparing the data\n",
        "now that we have a brief understanding of our data it is time for us to split the data into testing and training sets. For the purpose we use skikit learns train, test splitting library"
      ],
      "metadata": {
        "id": "Afe14YvQE_yi"
      }
    },
    {
      "cell_type": "code",
      "source": [
        "#importing necessary libraries\n",
        "from sklearn.model_selection import train_test_split\n",
        "\n",
        "X_train, X_test, y_train, y_test = train_test_split(x, y, test_size=0.2, random_state=42)\n",
        "#20% of the data will be used for testing and the rest willl be for training"
      ],
      "metadata": {
        "id": "PmCEvAQaKKQZ"
      },
      "execution_count": 10,
      "outputs": []
    },
    {
      "cell_type": "code",
      "source": [
        "X_train.head() #Training feature"
      ],
      "metadata": {
        "colab": {
          "base_uri": "https://localhost:8080/",
          "height": 206
        },
        "id": "Z5Vo-uQMOgBh",
        "outputId": "340814d6-96cd-4888-b788-871ff1ef901e"
      },
      "execution_count": 11,
      "outputs": [
        {
          "output_type": "execute_result",
          "data": {
            "text/plain": [
              "    Hours\n",
              "9     2.7\n",
              "13    3.3\n",
              "1     5.1\n",
              "22    3.8\n",
              "5     1.5"
            ],
            "text/html": [
              "\n",
              "  <div id=\"df-fc8d2e03-e88a-42b9-b9c3-f9e5f49c49ce\" class=\"colab-df-container\">\n",
              "    <div>\n",
              "<style scoped>\n",
              "    .dataframe tbody tr th:only-of-type {\n",
              "        vertical-align: middle;\n",
              "    }\n",
              "\n",
              "    .dataframe tbody tr th {\n",
              "        vertical-align: top;\n",
              "    }\n",
              "\n",
              "    .dataframe thead th {\n",
              "        text-align: right;\n",
              "    }\n",
              "</style>\n",
              "<table border=\"1\" class=\"dataframe\">\n",
              "  <thead>\n",
              "    <tr style=\"text-align: right;\">\n",
              "      <th></th>\n",
              "      <th>Hours</th>\n",
              "    </tr>\n",
              "  </thead>\n",
              "  <tbody>\n",
              "    <tr>\n",
              "      <th>9</th>\n",
              "      <td>2.7</td>\n",
              "    </tr>\n",
              "    <tr>\n",
              "      <th>13</th>\n",
              "      <td>3.3</td>\n",
              "    </tr>\n",
              "    <tr>\n",
              "      <th>1</th>\n",
              "      <td>5.1</td>\n",
              "    </tr>\n",
              "    <tr>\n",
              "      <th>22</th>\n",
              "      <td>3.8</td>\n",
              "    </tr>\n",
              "    <tr>\n",
              "      <th>5</th>\n",
              "      <td>1.5</td>\n",
              "    </tr>\n",
              "  </tbody>\n",
              "</table>\n",
              "</div>\n",
              "    <div class=\"colab-df-buttons\">\n",
              "\n",
              "  <div class=\"colab-df-container\">\n",
              "    <button class=\"colab-df-convert\" onclick=\"convertToInteractive('df-fc8d2e03-e88a-42b9-b9c3-f9e5f49c49ce')\"\n",
              "            title=\"Convert this dataframe to an interactive table.\"\n",
              "            style=\"display:none;\">\n",
              "\n",
              "  <svg xmlns=\"http://www.w3.org/2000/svg\" height=\"24px\" viewBox=\"0 -960 960 960\">\n",
              "    <path d=\"M120-120v-720h720v720H120Zm60-500h600v-160H180v160Zm220 220h160v-160H400v160Zm0 220h160v-160H400v160ZM180-400h160v-160H180v160Zm440 0h160v-160H620v160ZM180-180h160v-160H180v160Zm440 0h160v-160H620v160Z\"/>\n",
              "  </svg>\n",
              "    </button>\n",
              "\n",
              "  <style>\n",
              "    .colab-df-container {\n",
              "      display:flex;\n",
              "      gap: 12px;\n",
              "    }\n",
              "\n",
              "    .colab-df-convert {\n",
              "      background-color: #E8F0FE;\n",
              "      border: none;\n",
              "      border-radius: 50%;\n",
              "      cursor: pointer;\n",
              "      display: none;\n",
              "      fill: #1967D2;\n",
              "      height: 32px;\n",
              "      padding: 0 0 0 0;\n",
              "      width: 32px;\n",
              "    }\n",
              "\n",
              "    .colab-df-convert:hover {\n",
              "      background-color: #E2EBFA;\n",
              "      box-shadow: 0px 1px 2px rgba(60, 64, 67, 0.3), 0px 1px 3px 1px rgba(60, 64, 67, 0.15);\n",
              "      fill: #174EA6;\n",
              "    }\n",
              "\n",
              "    .colab-df-buttons div {\n",
              "      margin-bottom: 4px;\n",
              "    }\n",
              "\n",
              "    [theme=dark] .colab-df-convert {\n",
              "      background-color: #3B4455;\n",
              "      fill: #D2E3FC;\n",
              "    }\n",
              "\n",
              "    [theme=dark] .colab-df-convert:hover {\n",
              "      background-color: #434B5C;\n",
              "      box-shadow: 0px 1px 3px 1px rgba(0, 0, 0, 0.15);\n",
              "      filter: drop-shadow(0px 1px 2px rgba(0, 0, 0, 0.3));\n",
              "      fill: #FFFFFF;\n",
              "    }\n",
              "  </style>\n",
              "\n",
              "    <script>\n",
              "      const buttonEl =\n",
              "        document.querySelector('#df-fc8d2e03-e88a-42b9-b9c3-f9e5f49c49ce button.colab-df-convert');\n",
              "      buttonEl.style.display =\n",
              "        google.colab.kernel.accessAllowed ? 'block' : 'none';\n",
              "\n",
              "      async function convertToInteractive(key) {\n",
              "        const element = document.querySelector('#df-fc8d2e03-e88a-42b9-b9c3-f9e5f49c49ce');\n",
              "        const dataTable =\n",
              "          await google.colab.kernel.invokeFunction('convertToInteractive',\n",
              "                                                    [key], {});\n",
              "        if (!dataTable) return;\n",
              "\n",
              "        const docLinkHtml = 'Like what you see? Visit the ' +\n",
              "          '<a target=\"_blank\" href=https://colab.research.google.com/notebooks/data_table.ipynb>data table notebook</a>'\n",
              "          + ' to learn more about interactive tables.';\n",
              "        element.innerHTML = '';\n",
              "        dataTable['output_type'] = 'display_data';\n",
              "        await google.colab.output.renderOutput(dataTable, element);\n",
              "        const docLink = document.createElement('div');\n",
              "        docLink.innerHTML = docLinkHtml;\n",
              "        element.appendChild(docLink);\n",
              "      }\n",
              "    </script>\n",
              "  </div>\n",
              "\n",
              "\n",
              "<div id=\"df-f957e17f-7d64-4de6-bcba-0bcdb65d5123\">\n",
              "  <button class=\"colab-df-quickchart\" onclick=\"quickchart('df-f957e17f-7d64-4de6-bcba-0bcdb65d5123')\"\n",
              "            title=\"Suggest charts\"\n",
              "            style=\"display:none;\">\n",
              "\n",
              "<svg xmlns=\"http://www.w3.org/2000/svg\" height=\"24px\"viewBox=\"0 0 24 24\"\n",
              "     width=\"24px\">\n",
              "    <g>\n",
              "        <path d=\"M19 3H5c-1.1 0-2 .9-2 2v14c0 1.1.9 2 2 2h14c1.1 0 2-.9 2-2V5c0-1.1-.9-2-2-2zM9 17H7v-7h2v7zm4 0h-2V7h2v10zm4 0h-2v-4h2v4z\"/>\n",
              "    </g>\n",
              "</svg>\n",
              "  </button>\n",
              "\n",
              "<style>\n",
              "  .colab-df-quickchart {\n",
              "      --bg-color: #E8F0FE;\n",
              "      --fill-color: #1967D2;\n",
              "      --hover-bg-color: #E2EBFA;\n",
              "      --hover-fill-color: #174EA6;\n",
              "      --disabled-fill-color: #AAA;\n",
              "      --disabled-bg-color: #DDD;\n",
              "  }\n",
              "\n",
              "  [theme=dark] .colab-df-quickchart {\n",
              "      --bg-color: #3B4455;\n",
              "      --fill-color: #D2E3FC;\n",
              "      --hover-bg-color: #434B5C;\n",
              "      --hover-fill-color: #FFFFFF;\n",
              "      --disabled-bg-color: #3B4455;\n",
              "      --disabled-fill-color: #666;\n",
              "  }\n",
              "\n",
              "  .colab-df-quickchart {\n",
              "    background-color: var(--bg-color);\n",
              "    border: none;\n",
              "    border-radius: 50%;\n",
              "    cursor: pointer;\n",
              "    display: none;\n",
              "    fill: var(--fill-color);\n",
              "    height: 32px;\n",
              "    padding: 0;\n",
              "    width: 32px;\n",
              "  }\n",
              "\n",
              "  .colab-df-quickchart:hover {\n",
              "    background-color: var(--hover-bg-color);\n",
              "    box-shadow: 0 1px 2px rgba(60, 64, 67, 0.3), 0 1px 3px 1px rgba(60, 64, 67, 0.15);\n",
              "    fill: var(--button-hover-fill-color);\n",
              "  }\n",
              "\n",
              "  .colab-df-quickchart-complete:disabled,\n",
              "  .colab-df-quickchart-complete:disabled:hover {\n",
              "    background-color: var(--disabled-bg-color);\n",
              "    fill: var(--disabled-fill-color);\n",
              "    box-shadow: none;\n",
              "  }\n",
              "\n",
              "  .colab-df-spinner {\n",
              "    border: 2px solid var(--fill-color);\n",
              "    border-color: transparent;\n",
              "    border-bottom-color: var(--fill-color);\n",
              "    animation:\n",
              "      spin 1s steps(1) infinite;\n",
              "  }\n",
              "\n",
              "  @keyframes spin {\n",
              "    0% {\n",
              "      border-color: transparent;\n",
              "      border-bottom-color: var(--fill-color);\n",
              "      border-left-color: var(--fill-color);\n",
              "    }\n",
              "    20% {\n",
              "      border-color: transparent;\n",
              "      border-left-color: var(--fill-color);\n",
              "      border-top-color: var(--fill-color);\n",
              "    }\n",
              "    30% {\n",
              "      border-color: transparent;\n",
              "      border-left-color: var(--fill-color);\n",
              "      border-top-color: var(--fill-color);\n",
              "      border-right-color: var(--fill-color);\n",
              "    }\n",
              "    40% {\n",
              "      border-color: transparent;\n",
              "      border-right-color: var(--fill-color);\n",
              "      border-top-color: var(--fill-color);\n",
              "    }\n",
              "    60% {\n",
              "      border-color: transparent;\n",
              "      border-right-color: var(--fill-color);\n",
              "    }\n",
              "    80% {\n",
              "      border-color: transparent;\n",
              "      border-right-color: var(--fill-color);\n",
              "      border-bottom-color: var(--fill-color);\n",
              "    }\n",
              "    90% {\n",
              "      border-color: transparent;\n",
              "      border-bottom-color: var(--fill-color);\n",
              "    }\n",
              "  }\n",
              "</style>\n",
              "\n",
              "  <script>\n",
              "    async function quickchart(key) {\n",
              "      const quickchartButtonEl =\n",
              "        document.querySelector('#' + key + ' button');\n",
              "      quickchartButtonEl.disabled = true;  // To prevent multiple clicks.\n",
              "      quickchartButtonEl.classList.add('colab-df-spinner');\n",
              "      try {\n",
              "        const charts = await google.colab.kernel.invokeFunction(\n",
              "            'suggestCharts', [key], {});\n",
              "      } catch (error) {\n",
              "        console.error('Error during call to suggestCharts:', error);\n",
              "      }\n",
              "      quickchartButtonEl.classList.remove('colab-df-spinner');\n",
              "      quickchartButtonEl.classList.add('colab-df-quickchart-complete');\n",
              "    }\n",
              "    (() => {\n",
              "      let quickchartButtonEl =\n",
              "        document.querySelector('#df-f957e17f-7d64-4de6-bcba-0bcdb65d5123 button');\n",
              "      quickchartButtonEl.style.display =\n",
              "        google.colab.kernel.accessAllowed ? 'block' : 'none';\n",
              "    })();\n",
              "  </script>\n",
              "</div>\n",
              "\n",
              "    </div>\n",
              "  </div>\n"
            ],
            "application/vnd.google.colaboratory.intrinsic+json": {
              "type": "dataframe",
              "variable_name": "X_train",
              "summary": "{\n  \"name\": \"X_train\",\n  \"rows\": 20,\n  \"fields\": [\n    {\n      \"column\": \"Hours\",\n      \"properties\": {\n        \"dtype\": \"number\",\n        \"std\": 2.5668739948160986,\n        \"min\": 1.1,\n        \"max\": 9.2,\n        \"num_unique_values\": 19,\n        \"samples\": [\n          2.7,\n          3.2,\n          4.8\n        ],\n        \"semantic_type\": \"\",\n        \"description\": \"\"\n      }\n    }\n  ]\n}"
            }
          },
          "metadata": {},
          "execution_count": 11
        }
      ]
    },
    {
      "cell_type": "code",
      "source": [
        "y_train.head() #Training label"
      ],
      "metadata": {
        "colab": {
          "base_uri": "https://localhost:8080/",
          "height": 241
        },
        "id": "mOiQxBR2OpRT",
        "outputId": "3a54385d-b638-470d-f5b4-c00079d870c8"
      },
      "execution_count": 12,
      "outputs": [
        {
          "output_type": "execute_result",
          "data": {
            "text/plain": [
              "9     25\n",
              "13    42\n",
              "1     47\n",
              "22    35\n",
              "5     20\n",
              "Name: Scores, dtype: int64"
            ],
            "text/html": [
              "<div>\n",
              "<style scoped>\n",
              "    .dataframe tbody tr th:only-of-type {\n",
              "        vertical-align: middle;\n",
              "    }\n",
              "\n",
              "    .dataframe tbody tr th {\n",
              "        vertical-align: top;\n",
              "    }\n",
              "\n",
              "    .dataframe thead th {\n",
              "        text-align: right;\n",
              "    }\n",
              "</style>\n",
              "<table border=\"1\" class=\"dataframe\">\n",
              "  <thead>\n",
              "    <tr style=\"text-align: right;\">\n",
              "      <th></th>\n",
              "      <th>Scores</th>\n",
              "    </tr>\n",
              "  </thead>\n",
              "  <tbody>\n",
              "    <tr>\n",
              "      <th>9</th>\n",
              "      <td>25</td>\n",
              "    </tr>\n",
              "    <tr>\n",
              "      <th>13</th>\n",
              "      <td>42</td>\n",
              "    </tr>\n",
              "    <tr>\n",
              "      <th>1</th>\n",
              "      <td>47</td>\n",
              "    </tr>\n",
              "    <tr>\n",
              "      <th>22</th>\n",
              "      <td>35</td>\n",
              "    </tr>\n",
              "    <tr>\n",
              "      <th>5</th>\n",
              "      <td>20</td>\n",
              "    </tr>\n",
              "  </tbody>\n",
              "</table>\n",
              "</div><br><label><b>dtype:</b> int64</label>"
            ]
          },
          "metadata": {},
          "execution_count": 12
        }
      ]
    },
    {
      "cell_type": "code",
      "source": [
        "X_test.head() #Testing features"
      ],
      "metadata": {
        "colab": {
          "base_uri": "https://localhost:8080/",
          "height": 206
        },
        "id": "yOIpGn2HOzTG",
        "outputId": "d9e7c2e9-0ed3-4a8b-9b51-f4eda3ff725b"
      },
      "execution_count": 13,
      "outputs": [
        {
          "output_type": "execute_result",
          "data": {
            "text/plain": [
              "    Hours\n",
              "8     8.3\n",
              "16    2.5\n",
              "0     2.5\n",
              "23    6.9\n",
              "11    5.9"
            ],
            "text/html": [
              "\n",
              "  <div id=\"df-f6b5d21e-3300-497c-b6ab-9c59665b8ee8\" class=\"colab-df-container\">\n",
              "    <div>\n",
              "<style scoped>\n",
              "    .dataframe tbody tr th:only-of-type {\n",
              "        vertical-align: middle;\n",
              "    }\n",
              "\n",
              "    .dataframe tbody tr th {\n",
              "        vertical-align: top;\n",
              "    }\n",
              "\n",
              "    .dataframe thead th {\n",
              "        text-align: right;\n",
              "    }\n",
              "</style>\n",
              "<table border=\"1\" class=\"dataframe\">\n",
              "  <thead>\n",
              "    <tr style=\"text-align: right;\">\n",
              "      <th></th>\n",
              "      <th>Hours</th>\n",
              "    </tr>\n",
              "  </thead>\n",
              "  <tbody>\n",
              "    <tr>\n",
              "      <th>8</th>\n",
              "      <td>8.3</td>\n",
              "    </tr>\n",
              "    <tr>\n",
              "      <th>16</th>\n",
              "      <td>2.5</td>\n",
              "    </tr>\n",
              "    <tr>\n",
              "      <th>0</th>\n",
              "      <td>2.5</td>\n",
              "    </tr>\n",
              "    <tr>\n",
              "      <th>23</th>\n",
              "      <td>6.9</td>\n",
              "    </tr>\n",
              "    <tr>\n",
              "      <th>11</th>\n",
              "      <td>5.9</td>\n",
              "    </tr>\n",
              "  </tbody>\n",
              "</table>\n",
              "</div>\n",
              "    <div class=\"colab-df-buttons\">\n",
              "\n",
              "  <div class=\"colab-df-container\">\n",
              "    <button class=\"colab-df-convert\" onclick=\"convertToInteractive('df-f6b5d21e-3300-497c-b6ab-9c59665b8ee8')\"\n",
              "            title=\"Convert this dataframe to an interactive table.\"\n",
              "            style=\"display:none;\">\n",
              "\n",
              "  <svg xmlns=\"http://www.w3.org/2000/svg\" height=\"24px\" viewBox=\"0 -960 960 960\">\n",
              "    <path d=\"M120-120v-720h720v720H120Zm60-500h600v-160H180v160Zm220 220h160v-160H400v160Zm0 220h160v-160H400v160ZM180-400h160v-160H180v160Zm440 0h160v-160H620v160ZM180-180h160v-160H180v160Zm440 0h160v-160H620v160Z\"/>\n",
              "  </svg>\n",
              "    </button>\n",
              "\n",
              "  <style>\n",
              "    .colab-df-container {\n",
              "      display:flex;\n",
              "      gap: 12px;\n",
              "    }\n",
              "\n",
              "    .colab-df-convert {\n",
              "      background-color: #E8F0FE;\n",
              "      border: none;\n",
              "      border-radius: 50%;\n",
              "      cursor: pointer;\n",
              "      display: none;\n",
              "      fill: #1967D2;\n",
              "      height: 32px;\n",
              "      padding: 0 0 0 0;\n",
              "      width: 32px;\n",
              "    }\n",
              "\n",
              "    .colab-df-convert:hover {\n",
              "      background-color: #E2EBFA;\n",
              "      box-shadow: 0px 1px 2px rgba(60, 64, 67, 0.3), 0px 1px 3px 1px rgba(60, 64, 67, 0.15);\n",
              "      fill: #174EA6;\n",
              "    }\n",
              "\n",
              "    .colab-df-buttons div {\n",
              "      margin-bottom: 4px;\n",
              "    }\n",
              "\n",
              "    [theme=dark] .colab-df-convert {\n",
              "      background-color: #3B4455;\n",
              "      fill: #D2E3FC;\n",
              "    }\n",
              "\n",
              "    [theme=dark] .colab-df-convert:hover {\n",
              "      background-color: #434B5C;\n",
              "      box-shadow: 0px 1px 3px 1px rgba(0, 0, 0, 0.15);\n",
              "      filter: drop-shadow(0px 1px 2px rgba(0, 0, 0, 0.3));\n",
              "      fill: #FFFFFF;\n",
              "    }\n",
              "  </style>\n",
              "\n",
              "    <script>\n",
              "      const buttonEl =\n",
              "        document.querySelector('#df-f6b5d21e-3300-497c-b6ab-9c59665b8ee8 button.colab-df-convert');\n",
              "      buttonEl.style.display =\n",
              "        google.colab.kernel.accessAllowed ? 'block' : 'none';\n",
              "\n",
              "      async function convertToInteractive(key) {\n",
              "        const element = document.querySelector('#df-f6b5d21e-3300-497c-b6ab-9c59665b8ee8');\n",
              "        const dataTable =\n",
              "          await google.colab.kernel.invokeFunction('convertToInteractive',\n",
              "                                                    [key], {});\n",
              "        if (!dataTable) return;\n",
              "\n",
              "        const docLinkHtml = 'Like what you see? Visit the ' +\n",
              "          '<a target=\"_blank\" href=https://colab.research.google.com/notebooks/data_table.ipynb>data table notebook</a>'\n",
              "          + ' to learn more about interactive tables.';\n",
              "        element.innerHTML = '';\n",
              "        dataTable['output_type'] = 'display_data';\n",
              "        await google.colab.output.renderOutput(dataTable, element);\n",
              "        const docLink = document.createElement('div');\n",
              "        docLink.innerHTML = docLinkHtml;\n",
              "        element.appendChild(docLink);\n",
              "      }\n",
              "    </script>\n",
              "  </div>\n",
              "\n",
              "\n",
              "<div id=\"df-eab54443-f82a-44d3-b3b9-6c0a0cc160c8\">\n",
              "  <button class=\"colab-df-quickchart\" onclick=\"quickchart('df-eab54443-f82a-44d3-b3b9-6c0a0cc160c8')\"\n",
              "            title=\"Suggest charts\"\n",
              "            style=\"display:none;\">\n",
              "\n",
              "<svg xmlns=\"http://www.w3.org/2000/svg\" height=\"24px\"viewBox=\"0 0 24 24\"\n",
              "     width=\"24px\">\n",
              "    <g>\n",
              "        <path d=\"M19 3H5c-1.1 0-2 .9-2 2v14c0 1.1.9 2 2 2h14c1.1 0 2-.9 2-2V5c0-1.1-.9-2-2-2zM9 17H7v-7h2v7zm4 0h-2V7h2v10zm4 0h-2v-4h2v4z\"/>\n",
              "    </g>\n",
              "</svg>\n",
              "  </button>\n",
              "\n",
              "<style>\n",
              "  .colab-df-quickchart {\n",
              "      --bg-color: #E8F0FE;\n",
              "      --fill-color: #1967D2;\n",
              "      --hover-bg-color: #E2EBFA;\n",
              "      --hover-fill-color: #174EA6;\n",
              "      --disabled-fill-color: #AAA;\n",
              "      --disabled-bg-color: #DDD;\n",
              "  }\n",
              "\n",
              "  [theme=dark] .colab-df-quickchart {\n",
              "      --bg-color: #3B4455;\n",
              "      --fill-color: #D2E3FC;\n",
              "      --hover-bg-color: #434B5C;\n",
              "      --hover-fill-color: #FFFFFF;\n",
              "      --disabled-bg-color: #3B4455;\n",
              "      --disabled-fill-color: #666;\n",
              "  }\n",
              "\n",
              "  .colab-df-quickchart {\n",
              "    background-color: var(--bg-color);\n",
              "    border: none;\n",
              "    border-radius: 50%;\n",
              "    cursor: pointer;\n",
              "    display: none;\n",
              "    fill: var(--fill-color);\n",
              "    height: 32px;\n",
              "    padding: 0;\n",
              "    width: 32px;\n",
              "  }\n",
              "\n",
              "  .colab-df-quickchart:hover {\n",
              "    background-color: var(--hover-bg-color);\n",
              "    box-shadow: 0 1px 2px rgba(60, 64, 67, 0.3), 0 1px 3px 1px rgba(60, 64, 67, 0.15);\n",
              "    fill: var(--button-hover-fill-color);\n",
              "  }\n",
              "\n",
              "  .colab-df-quickchart-complete:disabled,\n",
              "  .colab-df-quickchart-complete:disabled:hover {\n",
              "    background-color: var(--disabled-bg-color);\n",
              "    fill: var(--disabled-fill-color);\n",
              "    box-shadow: none;\n",
              "  }\n",
              "\n",
              "  .colab-df-spinner {\n",
              "    border: 2px solid var(--fill-color);\n",
              "    border-color: transparent;\n",
              "    border-bottom-color: var(--fill-color);\n",
              "    animation:\n",
              "      spin 1s steps(1) infinite;\n",
              "  }\n",
              "\n",
              "  @keyframes spin {\n",
              "    0% {\n",
              "      border-color: transparent;\n",
              "      border-bottom-color: var(--fill-color);\n",
              "      border-left-color: var(--fill-color);\n",
              "    }\n",
              "    20% {\n",
              "      border-color: transparent;\n",
              "      border-left-color: var(--fill-color);\n",
              "      border-top-color: var(--fill-color);\n",
              "    }\n",
              "    30% {\n",
              "      border-color: transparent;\n",
              "      border-left-color: var(--fill-color);\n",
              "      border-top-color: var(--fill-color);\n",
              "      border-right-color: var(--fill-color);\n",
              "    }\n",
              "    40% {\n",
              "      border-color: transparent;\n",
              "      border-right-color: var(--fill-color);\n",
              "      border-top-color: var(--fill-color);\n",
              "    }\n",
              "    60% {\n",
              "      border-color: transparent;\n",
              "      border-right-color: var(--fill-color);\n",
              "    }\n",
              "    80% {\n",
              "      border-color: transparent;\n",
              "      border-right-color: var(--fill-color);\n",
              "      border-bottom-color: var(--fill-color);\n",
              "    }\n",
              "    90% {\n",
              "      border-color: transparent;\n",
              "      border-bottom-color: var(--fill-color);\n",
              "    }\n",
              "  }\n",
              "</style>\n",
              "\n",
              "  <script>\n",
              "    async function quickchart(key) {\n",
              "      const quickchartButtonEl =\n",
              "        document.querySelector('#' + key + ' button');\n",
              "      quickchartButtonEl.disabled = true;  // To prevent multiple clicks.\n",
              "      quickchartButtonEl.classList.add('colab-df-spinner');\n",
              "      try {\n",
              "        const charts = await google.colab.kernel.invokeFunction(\n",
              "            'suggestCharts', [key], {});\n",
              "      } catch (error) {\n",
              "        console.error('Error during call to suggestCharts:', error);\n",
              "      }\n",
              "      quickchartButtonEl.classList.remove('colab-df-spinner');\n",
              "      quickchartButtonEl.classList.add('colab-df-quickchart-complete');\n",
              "    }\n",
              "    (() => {\n",
              "      let quickchartButtonEl =\n",
              "        document.querySelector('#df-eab54443-f82a-44d3-b3b9-6c0a0cc160c8 button');\n",
              "      quickchartButtonEl.style.display =\n",
              "        google.colab.kernel.accessAllowed ? 'block' : 'none';\n",
              "    })();\n",
              "  </script>\n",
              "</div>\n",
              "\n",
              "    </div>\n",
              "  </div>\n"
            ],
            "application/vnd.google.colaboratory.intrinsic+json": {
              "type": "dataframe",
              "variable_name": "X_test",
              "summary": "{\n  \"name\": \"X_test\",\n  \"rows\": 5,\n  \"fields\": [\n    {\n      \"column\": \"Hours\",\n      \"properties\": {\n        \"dtype\": \"number\",\n        \"std\": 2.6252618916976647,\n        \"min\": 2.5,\n        \"max\": 8.3,\n        \"num_unique_values\": 4,\n        \"samples\": [\n          2.5,\n          5.9,\n          8.3\n        ],\n        \"semantic_type\": \"\",\n        \"description\": \"\"\n      }\n    }\n  ]\n}"
            }
          },
          "metadata": {},
          "execution_count": 13
        }
      ]
    },
    {
      "cell_type": "code",
      "source": [
        "y_test.head() #Testing Hours"
      ],
      "metadata": {
        "colab": {
          "base_uri": "https://localhost:8080/",
          "height": 241
        },
        "id": "aG2HFB5WO26z",
        "outputId": "edef4c2e-0a8e-43f2-f540-b17d0f761a82"
      },
      "execution_count": 14,
      "outputs": [
        {
          "output_type": "execute_result",
          "data": {
            "text/plain": [
              "8     81\n",
              "16    30\n",
              "0     21\n",
              "23    76\n",
              "11    62\n",
              "Name: Scores, dtype: int64"
            ],
            "text/html": [
              "<div>\n",
              "<style scoped>\n",
              "    .dataframe tbody tr th:only-of-type {\n",
              "        vertical-align: middle;\n",
              "    }\n",
              "\n",
              "    .dataframe tbody tr th {\n",
              "        vertical-align: top;\n",
              "    }\n",
              "\n",
              "    .dataframe thead th {\n",
              "        text-align: right;\n",
              "    }\n",
              "</style>\n",
              "<table border=\"1\" class=\"dataframe\">\n",
              "  <thead>\n",
              "    <tr style=\"text-align: right;\">\n",
              "      <th></th>\n",
              "      <th>Scores</th>\n",
              "    </tr>\n",
              "  </thead>\n",
              "  <tbody>\n",
              "    <tr>\n",
              "      <th>8</th>\n",
              "      <td>81</td>\n",
              "    </tr>\n",
              "    <tr>\n",
              "      <th>16</th>\n",
              "      <td>30</td>\n",
              "    </tr>\n",
              "    <tr>\n",
              "      <th>0</th>\n",
              "      <td>21</td>\n",
              "    </tr>\n",
              "    <tr>\n",
              "      <th>23</th>\n",
              "      <td>76</td>\n",
              "    </tr>\n",
              "    <tr>\n",
              "      <th>11</th>\n",
              "      <td>62</td>\n",
              "    </tr>\n",
              "  </tbody>\n",
              "</table>\n",
              "</div><br><label><b>dtype:</b> int64</label>"
            ]
          },
          "metadata": {},
          "execution_count": 14
        }
      ]
    },
    {
      "cell_type": "code",
      "source": [
        "# Scatter plot for training data\n",
        "plt.subplot(1, 2, 1)\n",
        "plt.scatter(X_train, y_train, color='blue', label='Training Data')\n",
        "plt.xlabel('Hours Studied')\n",
        "plt.ylabel('Scores')\n",
        "plt.title('Training Data')\n",
        "plt.legend()\n",
        "\n",
        "# Scatter plot for test data\n",
        "plt.subplot(1, 2, 2)\n",
        "plt.scatter(X_test, y_test, color='red', label='Test Data')\n",
        "plt.xlabel('Hours Studied')\n",
        "plt.ylabel('Scores')\n",
        "plt.title('Test Data')\n",
        "plt.legend()\n",
        "\n",
        "# Show the plots\n",
        "plt.tight_layout()\n",
        "plt.show()"
      ],
      "metadata": {
        "colab": {
          "base_uri": "https://localhost:8080/",
          "height": 487
        },
        "id": "O9GE_etlNB3D",
        "outputId": "ee4cb42f-bc6b-4600-bfc0-c571b0a7410c"
      },
      "execution_count": 15,
      "outputs": [
        {
          "output_type": "display_data",
          "data": {
            "text/plain": [
              "<Figure size 640x480 with 2 Axes>"
            ],
            "image/png": "[encoded data removed]"
          },
          "metadata": {}
        }
      ]
    },
    {
      "cell_type": "code",
      "source": [
        "def plot_predicitons(train_data=X_train , train_labels=y_train,\n",
        "                     test_data=X_test , test_labels=y_test,\n",
        "                     predictions=None):\n",
        "  \"\"\"Plots training data , test data and compares predictions\n",
        "  \"\"\"\n",
        "  plt.figure(figsize=(10 , 7))\n",
        "  #plot training data in blue\n",
        "  plt.scatter(train_data , train_labels , c='b' , s=4 , label=\"Training Data\")\n",
        "  #plot test data in green\n",
        "  plt.scatter(test_data , test_labels , c='g' , s=4 , label=\"Test Data\")\n",
        "\n",
        "  #Are there predictions\n",
        "  if predictions is not None:\n",
        "    plt.plot(test_data, predictions, c='r', label='Regression Line')\n",
        "    #plt.scatter(test_data , predictions , c='r' , s=4 , label='Predictions')\n",
        "\n",
        "  plt.legend(prop={\"size\":14})"
      ],
      "metadata": {
        "id": "LFbHZM4SPii6"
      },
      "execution_count": 16,
      "outputs": []
    },
    {
      "cell_type": "code",
      "source": [
        "plot_predicitons()"
      ],
      "metadata": {
        "colab": {
          "base_uri": "https://localhost:8080/",
          "height": 599
        },
        "id": "cL61NFunPlcd",
        "outputId": "146f8df0-9fdb-4d43-9fa9-92b9121f3666"
      },
      "execution_count": 17,
      "outputs": [
        {
          "output_type": "display_data",
          "data": {
            "text/plain": [
              "<Figure size 1000x700 with 1 Axes>"
            ],
            "image/png": "[encoded data removed]"
          },
          "metadata": {}
        }
      ]
    },
    {
      "cell_type": "markdown",
      "source": [
        "#Creating the Model\n",
        "now we have a good idea about our data so we are now going to prepare a Linear Regression model using PyTorch and train the model with X_train and y_train and evaluate our models predictions with X_test and y_test"
      ],
      "metadata": {
        "id": "Z7dMev4CPtS6"
      }
    },
    {
      "cell_type": "markdown",
      "source": [
        "For this task we will be creating a basic linear model with one input neuron and oneoutput neuron undergoing linear transformation\n",
        "\n",
        "$$ y = xW^T + b $$\n",
        "x is the input tensor\n",
        "W is the weight\n",
        "b is the bias vector\n",
        "y is the output tensor\n",
        "\n"
      ],
      "metadata": {
        "id": "cb_vvtB7Q64L"
      }
    },
    {
      "cell_type": "code",
      "source": [
        "import torch\n",
        "import torch.nn as nn\n",
        "\n",
        "class LinearRegressionModel_v0(nn.Module):\n",
        "  def __init__(self):\n",
        "    super().__init__()\n",
        "    #A linear Layer: one neuron for input Feature(Hours) and one Neuron for output Label (Grade)\n",
        "    self.layer1 = nn.Linear(1,1)\n",
        "    # self.layer2 = nn.Linear(10,1)\n",
        "\n",
        "  #Forward pass methof of our model\n",
        "  def forward(self , x: torch.Tensor) -> torch.Tensor:\n",
        "    return self.layer1(x)"
      ],
      "metadata": {
        "id": "-FItsIg3Tgu6"
      },
      "execution_count": 18,
      "outputs": []
    },
    {
      "cell_type": "markdown",
      "source": [
        "Now we have prepared our model but our data is currently in pandas dataframe format so we need to convert it to pytorch tensors"
      ],
      "metadata": {
        "id": "xxyv9tnYV8E2"
      }
    },
    {
      "cell_type": "code",
      "source": [
        "# Convert pandas DataFrames to PyTorch tensors\n",
        "X_train_tensor = torch.tensor(X_train.values, dtype=torch.float32)\n",
        "y_train_tensor = torch.tensor(y_train.values, dtype=torch.float32).view(-1, 1)\n",
        "X_test_tensor = torch.tensor(X_test.values, dtype=torch.float32)\n",
        "y_test_tensor = torch.tensor(y_test.values, dtype=torch.float32).view(-1, 1)\n"
      ],
      "metadata": {
        "id": "-rNvIIqEX9Gl"
      },
      "execution_count": 19,
      "outputs": []
    },
    {
      "cell_type": "code",
      "source": [
        "X_train_tensor[0:10]"
      ],
      "metadata": {
        "colab": {
          "base_uri": "https://localhost:8080/"
        },
        "id": "8tIrvyzTX_re",
        "outputId": "3c4690de-d0b2-4df8-9d04-97f549682fb0"
      },
      "execution_count": 20,
      "outputs": [
        {
          "output_type": "execute_result",
          "data": {
            "text/plain": [
              "tensor([[2.7000],\n",
              "        [3.3000],\n",
              "        [5.1000],\n",
              "        [3.8000],\n",
              "        [1.5000],\n",
              "        [3.2000],\n",
              "        [4.5000],\n",
              "        [8.9000],\n",
              "        [8.5000],\n",
              "        [3.5000]])"
            ]
          },
          "metadata": {},
          "execution_count": 20
        }
      ]
    },
    {
      "cell_type": "code",
      "source": [
        "y_train_tensor[0:10]"
      ],
      "metadata": {
        "colab": {
          "base_uri": "https://localhost:8080/"
        },
        "id": "pSfiboq4YKGN",
        "outputId": "a0d28be6-8025-4227-d6e1-38548806bc14"
      },
      "execution_count": 21,
      "outputs": [
        {
          "output_type": "execute_result",
          "data": {
            "text/plain": [
              "tensor([[25.],\n",
              "        [42.],\n",
              "        [47.],\n",
              "        [35.],\n",
              "        [20.],\n",
              "        [27.],\n",
              "        [41.],\n",
              "        [95.],\n",
              "        [75.],\n",
              "        [30.]])"
            ]
          },
          "metadata": {},
          "execution_count": 21
        }
      ]
    },
    {
      "cell_type": "markdown",
      "source": [
        "Now we need to define a loss function and optimizer to perform **Backpropogation** and **gradient descent**\n",
        "\n",
        "1. initially the model will put random values as weights and bias and perform linear transformation\n",
        "2. It will then calculate the loss and backpropogates where it will undergo optimization\n",
        "3. This process will continue until we get close to our desired outcome\n",
        "4. Then we will store the model"
      ],
      "metadata": {
        "id": "5PbfwD9lYYiu"
      }
    },
    {
      "cell_type": "code",
      "source": [
        "#First lets do some sample predictions to see how far our model is from acutal data\n",
        "torch.manual_seed(42) #set seeding for some consistency\n",
        "\n",
        "#Create an instance of the model\n",
        "model_0 = LinearRegressionModel_v0()\n",
        "\n",
        "#Lets check the parameters\n",
        "list(model_0.parameters())"
      ],
      "metadata": {
        "colab": {
          "base_uri": "https://localhost:8080/"
        },
        "id": "LoIwMHwuZO5B",
        "outputId": "6ff7dc06-b1c3-40b3-812b-084ffe6ababa"
      },
      "execution_count": 22,
      "outputs": [
        {
          "output_type": "execute_result",
          "data": {
            "text/plain": [
              "[Parameter containing:\n",
              " tensor([[0.7645]], requires_grad=True),\n",
              " Parameter containing:\n",
              " tensor([0.8300], requires_grad=True)]"
            ]
          },
          "metadata": {},
          "execution_count": 22
        }
      ]
    },
    {
      "cell_type": "code",
      "source": [
        "#Making some predictions\n",
        "\n",
        "with torch.inference_mode():\n",
        "  y_preds = model_0(X_test_tensor)\n",
        "\n",
        "y_preds # this is our models predictions"
      ],
      "metadata": {
        "colab": {
          "base_uri": "https://localhost:8080/"
        },
        "id": "buLopAB-bxtC",
        "outputId": "164e023b-8495-4d62-f33d-0350fb80f488"
      },
      "execution_count": 23,
      "outputs": [
        {
          "output_type": "execute_result",
          "data": {
            "text/plain": [
              "tensor([[7.1757],\n",
              "        [2.7414],\n",
              "        [2.7414],\n",
              "        [6.1053],\n",
              "        [5.3408]])"
            ]
          },
          "metadata": {},
          "execution_count": 23
        }
      ]
    },
    {
      "cell_type": "code",
      "source": [
        "y_test_tensor # These are the actual values"
      ],
      "metadata": {
        "colab": {
          "base_uri": "https://localhost:8080/"
        },
        "id": "92pWcg87cUqn",
        "outputId": "70c6e2b8-9d06-4e11-8fc3-5363902b5c1d"
      },
      "execution_count": 24,
      "outputs": [
        {
          "output_type": "execute_result",
          "data": {
            "text/plain": [
              "tensor([[81.],\n",
              "        [30.],\n",
              "        [21.],\n",
              "        [76.],\n",
              "        [62.]])"
            ]
          },
          "metadata": {},
          "execution_count": 24
        }
      ]
    },
    {
      "cell_type": "code",
      "source": [
        "# sample prediction\n",
        "plot_predicitons(predictions=y_preds)"
      ],
      "metadata": {
        "colab": {
          "base_uri": "https://localhost:8080/",
          "height": 599
        },
        "id": "Yl2tjmxUhquD",
        "outputId": "5817a9aa-868d-46b0-9988-394234b3bc40"
      },
      "execution_count": 25,
      "outputs": [
        {
          "output_type": "display_data",
          "data": {
            "text/plain": [
              "<Figure size 1000x700 with 1 Axes>"
            ],
            "image/png": "[encoded data removed]"
          },
          "metadata": {}
        }
      ]
    },
    {
      "cell_type": "markdown",
      "source": [
        "As we can see the regression line is not fitting which means the model has not learnt anything so now we should train the model"
      ],
      "metadata": {
        "id": "XLwilD_fmaNU"
      }
    },
    {
      "cell_type": "markdown",
      "source": [
        "#Training the Model\n",
        "\n",
        "1. loss function - L1Loss(Mean absolute error)\n",
        "2. optimizer - Adam"
      ],
      "metadata": {
        "id": "gjn5Z3tNmm0u"
      }
    },
    {
      "cell_type": "code",
      "source": [
        "loss_fn = nn.L1Loss()\n",
        "optimizer = torch.optim.Adam(params=model_0.parameters(), lr=0.001)"
      ],
      "metadata": {
        "id": "to780XcRnvHR"
      },
      "execution_count": 26,
      "outputs": []
    },
    {
      "cell_type": "markdown",
      "source": [
        "PyTorch training loop intuition"
      ],
      "metadata": {
        "id": "AH97v6R0oE-i"
      }
    },
    {
      "cell_type": "code",
      "source": [
        "torch.manual_seed(42)\n",
        "\n",
        "#Lets run a 1000 epochs\n",
        "epochs = 10001\n",
        "\n",
        "#we will store the data for further evaluation\n",
        "epoch_count = []\n",
        "loss_values = []\n",
        "test_loss_values = []\n",
        "\n",
        "for epoch in range(epochs):\n",
        "  ##Training\n",
        "  model_0.train() #Sets to training mode (turns on gradient descent)\n",
        "\n",
        "  #forward pass\n",
        "  y_preds = model_0(X_train_tensor)\n",
        "\n",
        "  #Calculate the loss\n",
        "  loss = loss_fn(y_preds , y_train_tensor)\n",
        "\n",
        "  #Optimize the loss\n",
        "  optimizer.zero_grad()\n",
        "\n",
        "  #Perform back propogation\n",
        "  loss.backward()\n",
        "\n",
        "  #perform gradient descent\n",
        "\n",
        "  optimizer.step()\n",
        "\n",
        "  #TESTING THE MODEL\n",
        "\n",
        "  model_0.eval() #Evaluation mode turns of gradient descent\n",
        "  with torch.inference_mode():\n",
        "    #Get predictions\n",
        "    test_preds = model_0(X_test_tensor)\n",
        "    #Find the test loss\n",
        "    test_loss = loss_fn(test_preds , y_test_tensor)\n",
        "\n",
        "  #Printing wahts happening\n",
        "  if epoch % 100 == 0:\n",
        "    #we append values of every 100 epochs\n",
        "    epoch_count.append(epoch)\n",
        "    loss_values.append(loss)\n",
        "    test_loss_values.append(test_loss)\n",
        "    print(f\"Epoch:{epoch} | Loss:{loss} | Test Loss:{test_loss}\")"
      ],
      "metadata": {
        "colab": {
          "base_uri": "https://localhost:8080/"
        },
        "id": "FCEQXt46oIH2",
        "outputId": "db759492-cad6-415a-f49d-0df87bb7cd01"
      },
      "execution_count": 27,
      "outputs": [
        {
          "output_type": "stream",
          "name": "stdout",
          "text": [
            "Epoch:0 | Loss:46.227882385253906 | Test Loss:49.172882080078125\n",
            "Epoch:100 | Loss:45.63188934326172 | Test Loss:48.55088806152344\n",
            "Epoch:200 | Loss:45.035892486572266 | Test Loss:47.92889404296875\n",
            "Epoch:300 | Loss:44.43988037109375 | Test Loss:47.30687713623047\n",
            "Epoch:400 | Loss:43.843849182128906 | Test Loss:46.684852600097656\n",
            "Epoch:500 | Loss:43.24782180786133 | Test Loss:46.06281661987305\n",
            "Epoch:600 | Loss:42.65179443359375 | Test Loss:45.44078826904297\n",
            "Epoch:700 | Loss:42.05576705932617 | Test Loss:44.818763732910156\n",
            "Epoch:800 | Loss:41.45973587036133 | Test Loss:44.19673156738281\n",
            "Epoch:900 | Loss:40.863712310791016 | Test Loss:43.57469940185547\n",
            "Epoch:1000 | Loss:40.26768112182617 | Test Loss:42.952674865722656\n",
            "Epoch:1100 | Loss:39.671653747558594 | Test Loss:42.33064651489258\n",
            "Epoch:1200 | Loss:39.07563400268555 | Test Loss:41.7086181640625\n",
            "Epoch:1300 | Loss:38.479652404785156 | Test Loss:41.08664321899414\n",
            "Epoch:1400 | Loss:37.883697509765625 | Test Loss:40.464691162109375\n",
            "Epoch:1500 | Loss:37.28773880004883 | Test Loss:39.842735290527344\n",
            "Epoch:1600 | Loss:36.69178009033203 | Test Loss:39.22077560424805\n",
            "Epoch:1700 | Loss:36.0958251953125 | Test Loss:38.59882354736328\n",
            "Epoch:1800 | Loss:35.49987030029297 | Test Loss:37.97686767578125\n",
            "Epoch:1900 | Loss:34.90391159057617 | Test Loss:37.35491180419922\n",
            "Epoch:2000 | Loss:34.30795669555664 | Test Loss:36.73295974731445\n",
            "Epoch:2100 | Loss:33.711997985839844 | Test Loss:36.11100387573242\n",
            "Epoch:2200 | Loss:33.11603927612305 | Test Loss:35.489051818847656\n",
            "Epoch:2300 | Loss:32.52008819580078 | Test Loss:34.86709213256836\n",
            "Epoch:2400 | Loss:31.92412757873535 | Test Loss:34.245140075683594\n",
            "Epoch:2500 | Loss:31.328170776367188 | Test Loss:33.62318420410156\n",
            "Epoch:2600 | Loss:30.732213973999023 | Test Loss:33.00122833251953\n",
            "Epoch:2700 | Loss:30.136255264282227 | Test Loss:32.3792724609375\n",
            "Epoch:2800 | Loss:29.540298461914062 | Test Loss:31.757320404052734\n",
            "Epoch:2900 | Loss:28.944345474243164 | Test Loss:31.135364532470703\n",
            "Epoch:3000 | Loss:28.348388671875 | Test Loss:30.513408660888672\n",
            "Epoch:3100 | Loss:27.752429962158203 | Test Loss:29.891454696655273\n",
            "Epoch:3200 | Loss:27.156469345092773 | Test Loss:29.26949691772461\n",
            "Epoch:3300 | Loss:26.560516357421875 | Test Loss:28.64754295349121\n",
            "Epoch:3400 | Loss:25.96455955505371 | Test Loss:28.025588989257812\n",
            "Epoch:3500 | Loss:25.368602752685547 | Test Loss:27.403635025024414\n",
            "Epoch:3600 | Loss:24.772647857666016 | Test Loss:26.78167724609375\n",
            "Epoch:3700 | Loss:24.176687240600586 | Test Loss:26.15972328186035\n",
            "Epoch:3800 | Loss:23.580732345581055 | Test Loss:25.537769317626953\n",
            "Epoch:3900 | Loss:22.98477554321289 | Test Loss:24.915813446044922\n",
            "Epoch:4000 | Loss:22.388818740844727 | Test Loss:24.29385757446289\n",
            "Epoch:4100 | Loss:21.792861938476562 | Test Loss:23.671905517578125\n",
            "Epoch:4200 | Loss:21.1969051361084 | Test Loss:23.04994773864746\n",
            "Epoch:4300 | Loss:20.600948333740234 | Test Loss:22.427993774414062\n",
            "Epoch:4400 | Loss:20.00499153137207 | Test Loss:21.806039810180664\n",
            "Epoch:4500 | Loss:19.409032821655273 | Test Loss:21.184085845947266\n",
            "Epoch:4600 | Loss:18.813077926635742 | Test Loss:20.562129974365234\n",
            "Epoch:4700 | Loss:18.217121124267578 | Test Loss:19.940176010131836\n",
            "Epoch:4800 | Loss:17.621164321899414 | Test Loss:19.318218231201172\n",
            "Epoch:4900 | Loss:17.025205612182617 | Test Loss:18.696264266967773\n",
            "Epoch:5000 | Loss:16.429250717163086 | Test Loss:18.074308395385742\n",
            "Epoch:5100 | Loss:15.833292961120605 | Test Loss:17.452356338500977\n",
            "Epoch:5200 | Loss:15.237337112426758 | Test Loss:16.830400466918945\n",
            "Epoch:5300 | Loss:14.641380310058594 | Test Loss:16.326034545898438\n",
            "Epoch:5400 | Loss:14.04542350769043 | Test Loss:15.844067573547363\n",
            "Epoch:5500 | Loss:13.44946575164795 | Test Loss:15.362103462219238\n",
            "Epoch:5600 | Loss:12.853509902954102 | Test Loss:14.880139350891113\n",
            "Epoch:5700 | Loss:12.294973373413086 | Test Loss:14.412042617797852\n",
            "Epoch:5800 | Loss:11.776494979858398 | Test Loss:13.960321426391602\n",
            "Epoch:5900 | Loss:11.254941940307617 | Test Loss:13.50597095489502\n",
            "Epoch:6000 | Loss:10.804034233093262 | Test Loss:13.079919815063477\n",
            "Epoch:6100 | Loss:10.41100025177002 | Test Loss:12.678866386413574\n",
            "Epoch:6200 | Loss:10.01690673828125 | Test Loss:12.275239944458008\n",
            "Epoch:6300 | Loss:9.617063522338867 | Test Loss:11.865802764892578\n",
            "Epoch:6400 | Loss:9.211790084838867 | Test Loss:11.450872421264648\n",
            "Epoch:6500 | Loss:8.801392555236816 | Test Loss:11.030766487121582\n",
            "Epoch:6600 | Loss:8.386187553405762 | Test Loss:10.605807304382324\n",
            "Epoch:6700 | Loss:8.01345157623291 | Test Loss:10.199419021606445\n",
            "Epoch:6800 | Loss:7.668026924133301 | Test Loss:9.805830955505371\n",
            "Epoch:6900 | Loss:7.366119384765625 | Test Loss:9.433165550231934\n",
            "Epoch:7000 | Loss:7.093293190002441 | Test Loss:9.076093673706055\n",
            "Epoch:7100 | Loss:6.8144378662109375 | Test Loss:8.711167335510254\n",
            "Epoch:7200 | Loss:6.550941467285156 | Test Loss:8.351116180419922\n",
            "Epoch:7300 | Loss:6.346712589263916 | Test Loss:8.031144142150879\n",
            "Epoch:7400 | Loss:6.137035369873047 | Test Loss:7.7026190757751465\n",
            "Epoch:7500 | Loss:5.979925155639648 | Test Loss:7.41442346572876\n",
            "Epoch:7600 | Loss:5.873223304748535 | Test Loss:7.172564506530762\n",
            "Epoch:7700 | Loss:5.762521743774414 | Test Loss:6.921648979187012\n",
            "Epoch:7800 | Loss:5.668393135070801 | Test Loss:6.685053825378418\n",
            "Epoch:7900 | Loss:5.574115753173828 | Test Loss:6.444711208343506\n",
            "Epoch:8000 | Loss:5.508541584014893 | Test Loss:6.243138313293457\n",
            "Epoch:8100 | Loss:5.45203161239624 | Test Loss:6.059617519378662\n",
            "Epoch:8200 | Loss:5.426258563995361 | Test Loss:5.948729038238525\n",
            "Epoch:8300 | Loss:5.412646293640137 | Test Loss:5.8750152587890625\n",
            "Epoch:8400 | Loss:5.398369789123535 | Test Loss:5.797687530517578\n",
            "Epoch:8500 | Loss:5.383397102355957 | Test Loss:5.71658992767334\n",
            "Epoch:8600 | Loss:5.367697238922119 | Test Loss:5.6315460205078125\n",
            "Epoch:8700 | Loss:5.351241111755371 | Test Loss:5.542405128479004\n",
            "Epoch:8800 | Loss:5.3339996337890625 | Test Loss:5.4489874839782715\n",
            "Epoch:8900 | Loss:5.315937042236328 | Test Loss:5.351122856140137\n",
            "Epoch:9000 | Loss:5.297022819519043 | Test Loss:5.248627662658691\n",
            "Epoch:9100 | Loss:5.277222633361816 | Test Loss:5.141329288482666\n",
            "Epoch:9200 | Loss:5.256505966186523 | Test Loss:5.029041290283203\n",
            "Epoch:9300 | Loss:5.234837532043457 | Test Loss:4.911585807800293\n",
            "Epoch:9400 | Loss:5.212185382843018 | Test Loss:4.788777828216553\n",
            "Epoch:9500 | Loss:5.188720226287842 | Test Loss:4.663535118103027\n",
            "Epoch:9600 | Loss:5.1656599044799805 | Test Loss:4.57000207901001\n",
            "Epoch:9700 | Loss:5.141717433929443 | Test Loss:4.4716010093688965\n",
            "Epoch:9800 | Loss:5.116844177246094 | Test Loss:4.36929178237915\n",
            "Epoch:9900 | Loss:5.091015338897705 | Test Loss:4.263319492340088\n",
            "Epoch:10000 | Loss:5.075433254241943 | Test Loss:4.197340965270996\n"
          ]
        }
      ]
    },
    {
      "cell_type": "code",
      "source": [
        "plot_predicitons(predictions=test_preds)"
      ],
      "metadata": {
        "colab": {
          "base_uri": "https://localhost:8080/",
          "height": 599
        },
        "id": "5O_5RcabuLN1",
        "outputId": "78d0a8e0-2a1d-4d76-b9ae-23d0795aa347"
      },
      "execution_count": 28,
      "outputs": [
        {
          "output_type": "display_data",
          "data": {
            "text/plain": [
              "<Figure size 1000x700 with 1 Axes>"
            ],
            "image/png": "[encoded data removed]"
          },
          "metadata": {}
        }
      ]
    },
    {
      "cell_type": "markdown",
      "source": [
        "#Loss Curve\n",
        "As we can see the loss made by our model decreased consistently\n"
      ],
      "metadata": {
        "id": "M8DVgBqF1xNt"
      }
    },
    {
      "cell_type": "code",
      "source": [
        "plt.plot(epoch_count , np.array(torch.tensor(loss_values).numpy()) , label=\"Train Loss\")\n",
        "plt.plot(epoch_count , test_loss_values , label=\"Test Loss\")\n",
        "plt.title(\"Training and test loss curves\")\n",
        "plt.ylabel(\"Loss\")\n",
        "plt.xlabel(\"Epochs\")\n",
        "plt.legend()"
      ],
      "metadata": {
        "colab": {
          "base_uri": "https://localhost:8080/",
          "height": 489
        },
        "id": "87bPCUkU19K5",
        "outputId": "c6d2c3ba-26eb-455b-9fc4-585b253a4a7e"
      },
      "execution_count": 29,
      "outputs": [
        {
          "output_type": "execute_result",
          "data": {
            "text/plain": [
              "<matplotlib.legend.Legend at 0x78e0a27202e0>"
            ]
          },
          "metadata": {},
          "execution_count": 29
        },
        {
          "output_type": "display_data",
          "data": {
            "text/plain": [
              "<Figure size 640x480 with 1 Axes>"
            ],
            "image/png": "[encoded data removed]"
          },
          "metadata": {}
        }
      ]
    },
    {
      "cell_type": "markdown",
      "source": [
        "#Actual value VS Predicted Value"
      ],
      "metadata": {
        "id": "RfftJby96Gbp"
      }
    },
    {
      "cell_type": "code",
      "source": [
        "pd.DataFrame({\"Actual Value\":y_test_tensor.detach().numpy().flatten()  , \"Predicted Value\":test_preds.detach().numpy().flatten()})"
      ],
      "metadata": {
        "colab": {
          "base_uri": "https://localhost:8080/",
          "height": 206
        },
        "id": "bfIjBw-M1EBP",
        "outputId": "4766f839-3a10-4c26-a1e5-8c935042857f"
      },
      "execution_count": 30,
      "outputs": [
        {
          "output_type": "execute_result",
          "data": {
            "text/plain": [
              "   Actual Value  Predicted Value\n",
              "0          81.0        80.111115\n",
              "1          30.0        29.254196\n",
              "2          21.0        29.254196\n",
              "3          76.0        67.835304\n",
              "4          62.0        59.066875"
            ],
            "text/html": [
              "\n",
              "  <div id=\"df-eff89cf4-209c-4d38-9b01-f94b0035df39\" class=\"colab-df-container\">\n",
              "    <div>\n",
              "<style scoped>\n",
              "    .dataframe tbody tr th:only-of-type {\n",
              "        vertical-align: middle;\n",
              "    }\n",
              "\n",
              "    .dataframe tbody tr th {\n",
              "        vertical-align: top;\n",
              "    }\n",
              "\n",
              "    .dataframe thead th {\n",
              "        text-align: right;\n",
              "    }\n",
              "</style>\n",
              "<table border=\"1\" class=\"dataframe\">\n",
              "  <thead>\n",
              "    <tr style=\"text-align: right;\">\n",
              "      <th></th>\n",
              "      <th>Actual Value</th>\n",
              "      <th>Predicted Value</th>\n",
              "    </tr>\n",
              "  </thead>\n",
              "  <tbody>\n",
              "    <tr>\n",
              "      <th>0</th>\n",
              "      <td>81.0</td>\n",
              "      <td>80.111115</td>\n",
              "    </tr>\n",
              "    <tr>\n",
              "      <th>1</th>\n",
              "      <td>30.0</td>\n",
              "      <td>29.254196</td>\n",
              "    </tr>\n",
              "    <tr>\n",
              "      <th>2</th>\n",
              "      <td>21.0</td>\n",
              "      <td>29.254196</td>\n",
              "    </tr>\n",
              "    <tr>\n",
              "      <th>3</th>\n",
              "      <td>76.0</td>\n",
              "      <td>67.835304</td>\n",
              "    </tr>\n",
              "    <tr>\n",
              "      <th>4</th>\n",
              "      <td>62.0</td>\n",
              "      <td>59.066875</td>\n",
              "    </tr>\n",
              "  </tbody>\n",
              "</table>\n",
              "</div>\n",
              "    <div class=\"colab-df-buttons\">\n",
              "\n",
              "  <div class=\"colab-df-container\">\n",
              "    <button class=\"colab-df-convert\" onclick=\"convertToInteractive('df-eff89cf4-209c-4d38-9b01-f94b0035df39')\"\n",
              "            title=\"Convert this dataframe to an interactive table.\"\n",
              "            style=\"display:none;\">\n",
              "\n",
              "  <svg xmlns=\"http://www.w3.org/2000/svg\" height=\"24px\" viewBox=\"0 -960 960 960\">\n",
              "    <path d=\"M120-120v-720h720v720H120Zm60-500h600v-160H180v160Zm220 220h160v-160H400v160Zm0 220h160v-160H400v160ZM180-400h160v-160H180v160Zm440 0h160v-160H620v160ZM180-180h160v-160H180v160Zm440 0h160v-160H620v160Z\"/>\n",
              "  </svg>\n",
              "    </button>\n",
              "\n",
              "  <style>\n",
              "    .colab-df-container {\n",
              "      display:flex;\n",
              "      gap: 12px;\n",
              "    }\n",
              "\n",
              "    .colab-df-convert {\n",
              "      background-color: #E8F0FE;\n",
              "      border: none;\n",
              "      border-radius: 50%;\n",
              "      cursor: pointer;\n",
              "      display: none;\n",
              "      fill: #1967D2;\n",
              "      height: 32px;\n",
              "      padding: 0 0 0 0;\n",
              "      width: 32px;\n",
              "    }\n",
              "\n",
              "    .colab-df-convert:hover {\n",
              "      background-color: #E2EBFA;\n",
              "      box-shadow: 0px 1px 2px rgba(60, 64, 67, 0.3), 0px 1px 3px 1px rgba(60, 64, 67, 0.15);\n",
              "      fill: #174EA6;\n",
              "    }\n",
              "\n",
              "    .colab-df-buttons div {\n",
              "      margin-bottom: 4px;\n",
              "    }\n",
              "\n",
              "    [theme=dark] .colab-df-convert {\n",
              "      background-color: #3B4455;\n",
              "      fill: #D2E3FC;\n",
              "    }\n",
              "\n",
              "    [theme=dark] .colab-df-convert:hover {\n",
              "      background-color: #434B5C;\n",
              "      box-shadow: 0px 1px 3px 1px rgba(0, 0, 0, 0.15);\n",
              "      filter: drop-shadow(0px 1px 2px rgba(0, 0, 0, 0.3));\n",
              "      fill: #FFFFFF;\n",
              "    }\n",
              "  </style>\n",
              "\n",
              "    <script>\n",
              "      const buttonEl =\n",
              "        document.querySelector('#df-eff89cf4-209c-4d38-9b01-f94b0035df39 button.colab-df-convert');\n",
              "      buttonEl.style.display =\n",
              "        google.colab.kernel.accessAllowed ? 'block' : 'none';\n",
              "\n",
              "      async function convertToInteractive(key) {\n",
              "        const element = document.querySelector('#df-eff89cf4-209c-4d38-9b01-f94b0035df39');\n",
              "        const dataTable =\n",
              "          await google.colab.kernel.invokeFunction('convertToInteractive',\n",
              "                                                    [key], {});\n",
              "        if (!dataTable) return;\n",
              "\n",
              "        const docLinkHtml = 'Like what you see? Visit the ' +\n",
              "          '<a target=\"_blank\" href=https://colab.research.google.com/notebooks/data_table.ipynb>data table notebook</a>'\n",
              "          + ' to learn more about interactive tables.';\n",
              "        element.innerHTML = '';\n",
              "        dataTable['output_type'] = 'display_data';\n",
              "        await google.colab.output.renderOutput(dataTable, element);\n",
              "        const docLink = document.createElement('div');\n",
              "        docLink.innerHTML = docLinkHtml;\n",
              "        element.appendChild(docLink);\n",
              "      }\n",
              "    </script>\n",
              "  </div>\n",
              "\n",
              "\n",
              "<div id=\"df-96809ad9-5a24-464a-8912-00a3309f3b94\">\n",
              "  <button class=\"colab-df-quickchart\" onclick=\"quickchart('df-96809ad9-5a24-464a-8912-00a3309f3b94')\"\n",
              "            title=\"Suggest charts\"\n",
              "            style=\"display:none;\">\n",
              "\n",
              "<svg xmlns=\"http://www.w3.org/2000/svg\" height=\"24px\"viewBox=\"0 0 24 24\"\n",
              "     width=\"24px\">\n",
              "    <g>\n",
              "        <path d=\"M19 3H5c-1.1 0-2 .9-2 2v14c0 1.1.9 2 2 2h14c1.1 0 2-.9 2-2V5c0-1.1-.9-2-2-2zM9 17H7v-7h2v7zm4 0h-2V7h2v10zm4 0h-2v-4h2v4z\"/>\n",
              "    </g>\n",
              "</svg>\n",
              "  </button>\n",
              "\n",
              "<style>\n",
              "  .colab-df-quickchart {\n",
              "      --bg-color: #E8F0FE;\n",
              "      --fill-color: #1967D2;\n",
              "      --hover-bg-color: #E2EBFA;\n",
              "      --hover-fill-color: #174EA6;\n",
              "      --disabled-fill-color: #AAA;\n",
              "      --disabled-bg-color: #DDD;\n",
              "  }\n",
              "\n",
              "  [theme=dark] .colab-df-quickchart {\n",
              "      --bg-color: #3B4455;\n",
              "      --fill-color: #D2E3FC;\n",
              "      --hover-bg-color: #434B5C;\n",
              "      --hover-fill-color: #FFFFFF;\n",
              "      --disabled-bg-color: #3B4455;\n",
              "      --disabled-fill-color: #666;\n",
              "  }\n",
              "\n",
              "  .colab-df-quickchart {\n",
              "    background-color: var(--bg-color);\n",
              "    border: none;\n",
              "    border-radius: 50%;\n",
              "    cursor: pointer;\n",
              "    display: none;\n",
              "    fill: var(--fill-color);\n",
              "    height: 32px;\n",
              "    padding: 0;\n",
              "    width: 32px;\n",
              "  }\n",
              "\n",
              "  .colab-df-quickchart:hover {\n",
              "    background-color: var(--hover-bg-color);\n",
              "    box-shadow: 0 1px 2px rgba(60, 64, 67, 0.3), 0 1px 3px 1px rgba(60, 64, 67, 0.15);\n",
              "    fill: var(--button-hover-fill-color);\n",
              "  }\n",
              "\n",
              "  .colab-df-quickchart-complete:disabled,\n",
              "  .colab-df-quickchart-complete:disabled:hover {\n",
              "    background-color: var(--disabled-bg-color);\n",
              "    fill: var(--disabled-fill-color);\n",
              "    box-shadow: none;\n",
              "  }\n",
              "\n",
              "  .colab-df-spinner {\n",
              "    border: 2px solid var(--fill-color);\n",
              "    border-color: transparent;\n",
              "    border-bottom-color: var(--fill-color);\n",
              "    animation:\n",
              "      spin 1s steps(1) infinite;\n",
              "  }\n",
              "\n",
              "  @keyframes spin {\n",
              "    0% {\n",
              "      border-color: transparent;\n",
              "      border-bottom-color: var(--fill-color);\n",
              "      border-left-color: var(--fill-color);\n",
              "    }\n",
              "    20% {\n",
              "      border-color: transparent;\n",
              "      border-left-color: var(--fill-color);\n",
              "      border-top-color: var(--fill-color);\n",
              "    }\n",
              "    30% {\n",
              "      border-color: transparent;\n",
              "      border-left-color: var(--fill-color);\n",
              "      border-top-color: var(--fill-color);\n",
              "      border-right-color: var(--fill-color);\n",
              "    }\n",
              "    40% {\n",
              "      border-color: transparent;\n",
              "      border-right-color: var(--fill-color);\n",
              "      border-top-color: var(--fill-color);\n",
              "    }\n",
              "    60% {\n",
              "      border-color: transparent;\n",
              "      border-right-color: var(--fill-color);\n",
              "    }\n",
              "    80% {\n",
              "      border-color: transparent;\n",
              "      border-right-color: var(--fill-color);\n",
              "      border-bottom-color: var(--fill-color);\n",
              "    }\n",
              "    90% {\n",
              "      border-color: transparent;\n",
              "      border-bottom-color: var(--fill-color);\n",
              "    }\n",
              "  }\n",
              "</style>\n",
              "\n",
              "  <script>\n",
              "    async function quickchart(key) {\n",
              "      const quickchartButtonEl =\n",
              "        document.querySelector('#' + key + ' button');\n",
              "      quickchartButtonEl.disabled = true;  // To prevent multiple clicks.\n",
              "      quickchartButtonEl.classList.add('colab-df-spinner');\n",
              "      try {\n",
              "        const charts = await google.colab.kernel.invokeFunction(\n",
              "            'suggestCharts', [key], {});\n",
              "      } catch (error) {\n",
              "        console.error('Error during call to suggestCharts:', error);\n",
              "      }\n",
              "      quickchartButtonEl.classList.remove('colab-df-spinner');\n",
              "      quickchartButtonEl.classList.add('colab-df-quickchart-complete');\n",
              "    }\n",
              "    (() => {\n",
              "      let quickchartButtonEl =\n",
              "        document.querySelector('#df-96809ad9-5a24-464a-8912-00a3309f3b94 button');\n",
              "      quickchartButtonEl.style.display =\n",
              "        google.colab.kernel.accessAllowed ? 'block' : 'none';\n",
              "    })();\n",
              "  </script>\n",
              "</div>\n",
              "\n",
              "    </div>\n",
              "  </div>\n"
            ],
            "application/vnd.google.colaboratory.intrinsic+json": {
              "type": "dataframe",
              "summary": "{\n  \"name\": \"pd\",\n  \"rows\": 5,\n  \"fields\": [\n    {\n      \"column\": \"Actual Value\",\n      \"properties\": {\n        \"dtype\": \"float32\",\n        \"num_unique_values\": 5,\n        \"samples\": [\n          30.0,\n          62.0,\n          21.0\n        ],\n        \"semantic_type\": \"\",\n        \"description\": \"\"\n      }\n    },\n    {\n      \"column\": \"Predicted Value\",\n      \"properties\": {\n        \"dtype\": \"float32\",\n        \"num_unique_values\": 4,\n        \"samples\": [\n          29.254196166992188,\n          59.06687545776367,\n          80.11111450195312\n        ],\n        \"semantic_type\": \"\",\n        \"description\": \"\"\n      }\n    }\n  ]\n}"
            }
          },
          "metadata": {},
          "execution_count": 30
        }
      ]
    },
    {
      "cell_type": "markdown",
      "source": [
        "# Evaluating the model\n",
        "R-squared measures the proportion of the variance in the target variable that is predictable from the input features. It ranges from 0 to 1, where 1 indicates perfect predictions."
      ],
      "metadata": {
        "id": "B6l-zXh56Bhl"
      }
    },
    {
      "cell_type": "code",
      "source": [
        "from sklearn.metrics import r2_score\n",
        "\n",
        "# Calculate R-squared\n",
        "r2 = r2_score(y_test, test_preds)\n",
        "print(f\"R-squared (R2): {round(r2 , 2)}\")\n"
      ],
      "metadata": {
        "colab": {
          "base_uri": "https://localhost:8080/"
        },
        "id": "N9VdCcUZ6D6Z",
        "outputId": "12ea797c-cf74-4567-fd07-5b5b6b2e306d"
      },
      "execution_count": 31,
      "outputs": [
        {
          "output_type": "stream",
          "name": "stdout",
          "text": [
            "R-squared (R2): 0.95\n"
          ]
        }
      ]
    },
    {
      "cell_type": "markdown",
      "source": [
        "As we can see our model is fit enough to do real world predictions"
      ],
      "metadata": {
        "id": "LALdvjZh9jf9"
      }
    },
    {
      "cell_type": "code",
      "source": [
        "# lets see how much a student will score if he studies  say 9.25 hours\n",
        "hours = 9.25\n",
        "feature = torch.tensor([[hours]])\n",
        "\n",
        "model_0.eval()\n",
        "with torch.inference_mode():\n",
        "  pred_score = model_0(feature)\n",
        "\n",
        "print(f\"predicted score for student studying for {hours} hours: {pred_score}\")"
      ],
      "metadata": {
        "id": "OshZu57I95F8",
        "colab": {
          "base_uri": "https://localhost:8080/"
        },
        "outputId": "12b50bbd-7e0d-4813-8748-ddd4d29b3faa"
      },
      "execution_count": 32,
      "outputs": [
        {
          "output_type": "stream",
          "name": "stdout",
          "text": [
            "predicted score for student studying for 9.25 hours: tensor([[88.4411]])\n"
          ]
        }
      ]
    },
    {
      "cell_type": "code",
      "source": [
        "# lets analyze it with our actual database\n",
        "\n",
        "close_hours_data = data[(data['Hours'] >= 9.0) & (data['Hours'] <= 9.6)]\n",
        "\n",
        "# Display the filtered data\n",
        "print(close_hours_data)\n"
      ],
      "metadata": {
        "colab": {
          "base_uri": "https://localhost:8080/"
        },
        "id": "3FxhBXV5n9he",
        "outputId": "f42fb213-08a1-42c3-b31e-a38492db2ee0"
      },
      "execution_count": 33,
      "outputs": [
        {
          "output_type": "stream",
          "name": "stdout",
          "text": [
            "   Hours  Scores\n",
            "6    9.2      88\n"
          ]
        }
      ]
    },
    {
      "cell_type": "markdown",
      "source": [
        "As we can see the prediction of our model was almost accurate"
      ],
      "metadata": {
        "id": "KAlhyhb8oLdw"
      }
    },
    {
      "cell_type": "code",
      "source": [
        "model_0.state_dict()"
      ],
      "metadata": {
        "colab": {
          "base_uri": "https://localhost:8080/"
        },
        "id": "qv7EXIFQrlxY",
        "outputId": "870f2a66-57c7-4ce0-f9f4-ad7c8c95e303"
      },
      "execution_count": 34,
      "outputs": [
        {
          "output_type": "execute_result",
          "data": {
            "text/plain": [
              "OrderedDict([('layer1.weight', tensor([[8.7684]])),\n",
              "             ('layer1.bias', tensor([7.3331]))])"
            ]
          },
          "metadata": {},
          "execution_count": 34
        }
      ]
    },
    {
      "cell_type": "markdown",
      "source": [
        "# Saving the model\n",
        "Saving the model is essential so that we can share the model and reuse it. To save it we will use pyTorch's save function"
      ],
      "metadata": {
        "id": "Kir6UcnAqoiq"
      }
    },
    {
      "cell_type": "code",
      "source": [
        "!mkdir models\n",
        "%cd models"
      ],
      "metadata": {
        "colab": {
          "base_uri": "https://localhost:8080/"
        },
        "id": "LsUiqrQ8sysP",
        "outputId": "c6aec237-36ef-4b24-e25d-52bd48814d4d"
      },
      "execution_count": 35,
      "outputs": [
        {
          "output_type": "stream",
          "name": "stdout",
          "text": [
            "/content/models\n"
          ]
        }
      ]
    },
    {
      "cell_type": "code",
      "source": [
        "name = \"student_grades_model_v0.pth\"\n",
        "torch.save(obj = model_0.state_dict() , f=name)"
      ],
      "metadata": {
        "id": "8YPoTrYJuVE-"
      },
      "execution_count": 36,
      "outputs": []
    },
    {
      "cell_type": "markdown",
      "source": [
        "Now the model is saved in a new folder called models"
      ],
      "metadata": {
        "id": "5GMEGrFLumGS"
      }
    },
    {
      "cell_type": "markdown",
      "source": [
        "And thus we have created a model to predict the scores of students based on the  number of hours studied. Now we can easily load the model\n",
        "\n",
        "# THE END"
      ],
      "metadata": {
        "id": "-5UaNlbfvdTG"
      }
    }
  ]
}